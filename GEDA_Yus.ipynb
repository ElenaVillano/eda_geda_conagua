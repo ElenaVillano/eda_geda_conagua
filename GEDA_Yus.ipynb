{
 "cells": [
  {
   "cell_type": "code",
   "execution_count": 10,
   "metadata": {},
   "outputs": [],
   "source": [
    "import seaborn as sns\n",
    "import pandas as pd\n",
    "import numpy as np"
   ]
  },
  {
   "cell_type": "code",
   "execution_count": 7,
   "metadata": {},
   "outputs": [],
   "source": [
    "agua = pd.read_csv(\"data_consumo_agua.csv\")"
   ]
  },
  {
   "cell_type": "markdown",
   "metadata": {},
   "source": [
    "alcaldía vs índice_des\n",
    "consumo_total_dom vs bimestre\n",
    "consumo_total_no_dom\n",
    "indice_des vs bimestre"
   ]
  },
  {
   "cell_type": "code",
   "execution_count": 8,
   "metadata": {},
   "outputs": [
    {
     "data": {
      "text/html": [
       "<div>\n",
       "<style scoped>\n",
       "    .dataframe tbody tr th:only-of-type {\n",
       "        vertical-align: middle;\n",
       "    }\n",
       "\n",
       "    .dataframe tbody tr th {\n",
       "        vertical-align: top;\n",
       "    }\n",
       "\n",
       "    .dataframe thead th {\n",
       "        text-align: right;\n",
       "    }\n",
       "</style>\n",
       "<table border=\"1\" class=\"dataframe\">\n",
       "  <thead>\n",
       "    <tr style=\"text-align: right;\">\n",
       "      <th></th>\n",
       "      <th>consumo_total_mixto</th>\n",
       "      <th>anio</th>\n",
       "      <th>nomgeo</th>\n",
       "      <th>consumo_prom_dom</th>\n",
       "      <th>consumo_total_dom</th>\n",
       "      <th>alcaldia</th>\n",
       "      <th>colonia</th>\n",
       "      <th>consumo_prom_mixto</th>\n",
       "      <th>consumo_total</th>\n",
       "      <th>consumo_prom</th>\n",
       "      <th>consumo_prom_no_dom</th>\n",
       "      <th>bimestre</th>\n",
       "      <th>consumo_total_no_dom</th>\n",
       "      <th>gid</th>\n",
       "      <th>indice_des</th>\n",
       "      <th>latitud</th>\n",
       "      <th>longitud</th>\n",
       "    </tr>\n",
       "  </thead>\n",
       "  <tbody>\n",
       "    <tr>\n",
       "      <th>0</th>\n",
       "      <td>159.72</td>\n",
       "      <td>2019</td>\n",
       "      <td>Gustavo A. Madero</td>\n",
       "      <td>42.566364</td>\n",
       "      <td>468.23</td>\n",
       "      <td>gustavo a. madero</td>\n",
       "      <td>7 de noviembre</td>\n",
       "      <td>53.24</td>\n",
       "      <td>631.0</td>\n",
       "      <td>42.066667</td>\n",
       "      <td>3.05</td>\n",
       "      <td>3</td>\n",
       "      <td>3.05</td>\n",
       "      <td>57250</td>\n",
       "      <td>alto</td>\n",
       "      <td>19.45526</td>\n",
       "      <td>-99.112662</td>\n",
       "    </tr>\n",
       "  </tbody>\n",
       "</table>\n",
       "</div>"
      ],
      "text/plain": [
       "   consumo_total_mixto  anio             nomgeo  consumo_prom_dom  \\\n",
       "0               159.72  2019  Gustavo A. Madero         42.566364   \n",
       "\n",
       "   consumo_total_dom           alcaldia         colonia  consumo_prom_mixto  \\\n",
       "0             468.23  gustavo a. madero  7 de noviembre               53.24   \n",
       "\n",
       "   consumo_total  consumo_prom  consumo_prom_no_dom  bimestre  \\\n",
       "0          631.0     42.066667                 3.05         3   \n",
       "\n",
       "   consumo_total_no_dom    gid indice_des   latitud   longitud  \n",
       "0                  3.05  57250       alto  19.45526 -99.112662  "
      ]
     },
     "execution_count": 8,
     "metadata": {},
     "output_type": "execute_result"
    }
   ],
   "source": [
    "agua.head(1)"
   ]
  },
  {
   "cell_type": "code",
   "execution_count": 52,
   "metadata": {},
   "outputs": [],
   "source": [
    "dom_no = pd.DataFrame(agua,columns=['alcaldia','consumo_total_dom','consumo_total_no_dom'])\\\n",
    ".groupby(['alcaldia'], as_index=False).sum()\\\n",
    ".sort_values(by=['consumo_total_dom'], ascending=False)\\\n",
    ".melt(id_vars='alcaldia')\\\n"
   ]
  },
  {
   "cell_type": "code",
   "execution_count": 53,
   "metadata": {},
   "outputs": [
    {
     "data": {
      "text/plain": [
       "<AxesSubplot:xlabel='value', ylabel='alcaldia'>"
      ]
     },
     "execution_count": 53,
     "metadata": {},
     "output_type": "execute_result"
    },
    {
     "data": {
      "image/png": "[encoded data removed]",
      "text/plain": [
       "<Figure size 432x288 with 1 Axes>"
      ]
     },
     "metadata": {
      "needs_background": "light"
     },
     "output_type": "display_data"
    }
   ],
   "source": [
    "sns.barplot(x=\"value\", y=\"alcaldia\", data=dom_no, hue = 'variable')"
   ]
  },
  {
   "cell_type": "code",
   "execution_count": null,
   "metadata": {},
   "outputs": [],
   "source": []
  },
  {
   "cell_type": "code",
   "execution_count": null,
   "metadata": {},
   "outputs": [],
   "source": []
  },
  {
   "cell_type": "code",
   "execution_count": 10,
   "metadata": {},
   "outputs": [],
   "source": [
    "consumo_ind = agua.groupby(['consumo_total','indice_des'], as_index=False)"
   ]
  },
  {
   "cell_type": "code",
   "execution_count": 78,
   "metadata": {},
   "outputs": [
    {
     "data": {
      "text/html": [
       "<div>\n",
       "<style scoped>\n",
       "    .dataframe tbody tr th:only-of-type {\n",
       "        vertical-align: middle;\n",
       "    }\n",
       "\n",
       "    .dataframe tbody tr th {\n",
       "        vertical-align: top;\n",
       "    }\n",
       "\n",
       "    .dataframe thead th {\n",
       "        text-align: right;\n",
       "    }\n",
       "</style>\n",
       "<table border=\"1\" class=\"dataframe\">\n",
       "  <thead>\n",
       "    <tr style=\"text-align: right;\">\n",
       "      <th></th>\n",
       "      <th>alcaldia</th>\n",
       "      <th>indice_des</th>\n",
       "      <th>consumo_total</th>\n",
       "    </tr>\n",
       "  </thead>\n",
       "  <tbody>\n",
       "    <tr>\n",
       "      <th>8</th>\n",
       "      <td>benito juarez</td>\n",
       "      <td>alto</td>\n",
       "      <td>8053473.75</td>\n",
       "    </tr>\n",
       "    <tr>\n",
       "      <th>40</th>\n",
       "      <td>miguel hidalgo</td>\n",
       "      <td>alto</td>\n",
       "      <td>7828405.06</td>\n",
       "    </tr>\n",
       "    <tr>\n",
       "      <th>21</th>\n",
       "      <td>cuauhtemoc</td>\n",
       "      <td>bajo</td>\n",
       "      <td>6430251.23</td>\n",
       "    </tr>\n",
       "    <tr>\n",
       "      <th>5</th>\n",
       "      <td>azcapotzalco</td>\n",
       "      <td>bajo</td>\n",
       "      <td>6119398.30</td>\n",
       "    </tr>\n",
       "    <tr>\n",
       "      <th>25</th>\n",
       "      <td>gustavo a. madero</td>\n",
       "      <td>bajo</td>\n",
       "      <td>5839095.84</td>\n",
       "    </tr>\n",
       "    <tr>\n",
       "      <th>...</th>\n",
       "      <td>...</td>\n",
       "      <td>...</td>\n",
       "      <td>...</td>\n",
       "    </tr>\n",
       "    <tr>\n",
       "      <th>44</th>\n",
       "      <td>milpa alta</td>\n",
       "      <td>bajo</td>\n",
       "      <td>47414.48</td>\n",
       "    </tr>\n",
       "    <tr>\n",
       "      <th>47</th>\n",
       "      <td>tlahuac</td>\n",
       "      <td>alto</td>\n",
       "      <td>44911.35</td>\n",
       "    </tr>\n",
       "    <tr>\n",
       "      <th>32</th>\n",
       "      <td>iztapalapa</td>\n",
       "      <td>alto</td>\n",
       "      <td>44178.68</td>\n",
       "    </tr>\n",
       "    <tr>\n",
       "      <th>45</th>\n",
       "      <td>milpa alta</td>\n",
       "      <td>medio</td>\n",
       "      <td>35692.69</td>\n",
       "    </tr>\n",
       "    <tr>\n",
       "      <th>34</th>\n",
       "      <td>iztapalapa</td>\n",
       "      <td>medio</td>\n",
       "      <td>226.68</td>\n",
       "    </tr>\n",
       "  </tbody>\n",
       "</table>\n",
       "<p>63 rows × 3 columns</p>\n",
       "</div>"
      ],
      "text/plain": [
       "             alcaldia indice_des  consumo_total\n",
       "8       benito juarez       alto     8053473.75\n",
       "40     miguel hidalgo       alto     7828405.06\n",
       "21         cuauhtemoc       bajo     6430251.23\n",
       "5        azcapotzalco       bajo     6119398.30\n",
       "25  gustavo a. madero       bajo     5839095.84\n",
       "..                ...        ...            ...\n",
       "44         milpa alta       bajo       47414.48\n",
       "47            tlahuac       alto       44911.35\n",
       "32         iztapalapa       alto       44178.68\n",
       "45         milpa alta      medio       35692.69\n",
       "34         iztapalapa      medio         226.68\n",
       "\n",
       "[63 rows x 3 columns]"
      ]
     },
     "execution_count": 78,
     "metadata": {},
     "output_type": "execute_result"
    }
   ],
   "source": [
    "ind_alcaldia = pd.DataFrame(agua, columns=['alcaldia','consumo_total','indice_des'])\\\n",
    ".groupby(['alcaldia','indice_des'], as_index=False).sum()\\\n",
    ".sort_values(by=['consumo_total'], ascending=False)\n",
    "ind_alcaldia"
   ]
  },
  {
   "cell_type": "code",
   "execution_count": 80,
   "metadata": {},
   "outputs": [
    {
     "data": {
      "text/plain": [
       "<AxesSubplot:xlabel='consumo_total', ylabel='alcaldia'>"
      ]
     },
     "execution_count": 80,
     "metadata": {},
     "output_type": "execute_result"
    },
    {
     "data": {
      "image/png": "[encoded data removed]",
      "text/plain": [
       "<Figure size 432x288 with 1 Axes>"
      ]
     },
     "metadata": {
      "needs_background": "light"
     },
     "output_type": "display_data"
    }
   ],
   "source": [
    "sns.barplot(x=\"consumo_total\", y=\"alcaldia\", data=ind_alcaldia, hue = 'indice_des')\n"
   ]
  },
  {
   "cell_type": "code",
   "execution_count": null,
   "metadata": {},
   "outputs": [],
   "source": []
  },
  {
   "cell_type": "code",
   "execution_count": 106,
   "metadata": {},
   "outputs": [],
   "source": [
    "ind_alcaldia2 = agua.groupby(['alcaldia','indice_des'], as_index=False)['consumo_total'].sum()\\\n",
    ".rename(columns={'consumo_total':'count'}).sort_values(by=['count'])"
   ]
  },
  {
   "cell_type": "code",
   "execution_count": 107,
   "metadata": {},
   "outputs": [
    {
     "data": {
      "text/html": [
       "<div>\n",
       "<style scoped>\n",
       "    .dataframe tbody tr th:only-of-type {\n",
       "        vertical-align: middle;\n",
       "    }\n",
       "\n",
       "    .dataframe tbody tr th {\n",
       "        vertical-align: top;\n",
       "    }\n",
       "\n",
       "    .dataframe thead th {\n",
       "        text-align: right;\n",
       "    }\n",
       "</style>\n",
       "<table border=\"1\" class=\"dataframe\">\n",
       "  <thead>\n",
       "    <tr style=\"text-align: right;\">\n",
       "      <th></th>\n",
       "      <th>alcaldia</th>\n",
       "      <th>indice_des</th>\n",
       "      <th>count</th>\n",
       "    </tr>\n",
       "  </thead>\n",
       "  <tbody>\n",
       "    <tr>\n",
       "      <th>34</th>\n",
       "      <td>IZTAPALAPA</td>\n",
       "      <td>MEDIO</td>\n",
       "      <td>226.68</td>\n",
       "    </tr>\n",
       "    <tr>\n",
       "      <th>45</th>\n",
       "      <td>MILPA ALTA</td>\n",
       "      <td>MEDIO</td>\n",
       "      <td>35692.69</td>\n",
       "    </tr>\n",
       "    <tr>\n",
       "      <th>32</th>\n",
       "      <td>IZTAPALAPA</td>\n",
       "      <td>ALTO</td>\n",
       "      <td>44178.68</td>\n",
       "    </tr>\n",
       "    <tr>\n",
       "      <th>47</th>\n",
       "      <td>TLAHUAC</td>\n",
       "      <td>ALTO</td>\n",
       "      <td>44911.35</td>\n",
       "    </tr>\n",
       "    <tr>\n",
       "      <th>44</th>\n",
       "      <td>MILPA ALTA</td>\n",
       "      <td>BAJO</td>\n",
       "      <td>47414.48</td>\n",
       "    </tr>\n",
       "    <tr>\n",
       "      <th>...</th>\n",
       "      <td>...</td>\n",
       "      <td>...</td>\n",
       "      <td>...</td>\n",
       "    </tr>\n",
       "    <tr>\n",
       "      <th>25</th>\n",
       "      <td>GUSTAVO A. MADERO</td>\n",
       "      <td>BAJO</td>\n",
       "      <td>5839095.84</td>\n",
       "    </tr>\n",
       "    <tr>\n",
       "      <th>5</th>\n",
       "      <td>AZCAPOTZALCO</td>\n",
       "      <td>BAJO</td>\n",
       "      <td>6119398.30</td>\n",
       "    </tr>\n",
       "    <tr>\n",
       "      <th>21</th>\n",
       "      <td>CUAUHTEMOC</td>\n",
       "      <td>BAJO</td>\n",
       "      <td>6430251.23</td>\n",
       "    </tr>\n",
       "    <tr>\n",
       "      <th>40</th>\n",
       "      <td>MIGUEL HIDALGO</td>\n",
       "      <td>ALTO</td>\n",
       "      <td>7828405.06</td>\n",
       "    </tr>\n",
       "    <tr>\n",
       "      <th>8</th>\n",
       "      <td>BENITO JUAREZ</td>\n",
       "      <td>ALTO</td>\n",
       "      <td>8053473.75</td>\n",
       "    </tr>\n",
       "  </tbody>\n",
       "</table>\n",
       "<p>63 rows × 3 columns</p>\n",
       "</div>"
      ],
      "text/plain": [
       "             alcaldia indice_des       count\n",
       "34         IZTAPALAPA      MEDIO      226.68\n",
       "45         MILPA ALTA      MEDIO    35692.69\n",
       "32         IZTAPALAPA       ALTO    44178.68\n",
       "47            TLAHUAC       ALTO    44911.35\n",
       "44         MILPA ALTA       BAJO    47414.48\n",
       "..                ...        ...         ...\n",
       "25  GUSTAVO A. MADERO       BAJO  5839095.84\n",
       "5        AZCAPOTZALCO       BAJO  6119398.30\n",
       "21         CUAUHTEMOC       BAJO  6430251.23\n",
       "40     MIGUEL HIDALGO       ALTO  7828405.06\n",
       "8       BENITO JUAREZ       ALTO  8053473.75\n",
       "\n",
       "[63 rows x 3 columns]"
      ]
     },
     "execution_count": 107,
     "metadata": {},
     "output_type": "execute_result"
    }
   ],
   "source": [
    "ind_alcaldia2"
   ]
  },
  {
   "cell_type": "code",
   "execution_count": 108,
   "metadata": {},
   "outputs": [
    {
     "data": {
      "text/plain": [
       "<AxesSubplot:xlabel='count', ylabel='indice_des'>"
      ]
     },
     "execution_count": 108,
     "metadata": {},
     "output_type": "execute_result"
    },
    {
     "data": {
      "image/png": "[encoded data removed]",
      "text/plain": [
       "<Figure size 432x288 with 1 Axes>"
      ]
     },
     "metadata": {
      "needs_background": "light"
     },
     "output_type": "display_data"
    }
   ],
   "source": [
    "sns.barplot(x=\"count\", y=\"indice_des\", data=ind_alcaldia2)"
   ]
  },
  {
   "cell_type": "code",
   "execution_count": null,
   "metadata": {},
   "outputs": [],
   "source": []
  },
  {
   "cell_type": "code",
   "execution_count": null,
   "metadata": {},
   "outputs": [],
   "source": []
  },
  {
   "cell_type": "code",
   "execution_count": null,
   "metadata": {},
   "outputs": [],
   "source": []
  },
  {
   "cell_type": "code",
   "execution_count": null,
   "metadata": {},
   "outputs": [],
   "source": []
  }
 ],
 "metadata": {
  "kernelspec": {
   "display_name": "itam_intro_to_ds",
   "language": "python",
   "name": "itam_intro_to_ds"
  },
  "language_info": {
   "codemirror_mode": {
    "name": "ipython",
    "version": 3
   },
   "file_extension": ".py",
   "mimetype": "text/x-python",
   "name": "python",
   "nbconvert_exporter": "python",
   "pygments_lexer": "ipython3",
   "version": "3.7.4"
  }
 },
 "nbformat": 4,
 "nbformat_minor": 4
}
