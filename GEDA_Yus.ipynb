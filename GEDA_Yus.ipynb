{
 "cells": [
  {
   "cell_type": "code",
   "execution_count": 2,
   "metadata": {},
   "outputs": [],
   "source": [
    "import seaborn as sns\n",
    "import pandas as pd\n",
    "import numpy as np"
   ]
  },
  {
   "cell_type": "code",
   "execution_count": 3,
   "metadata": {},
   "outputs": [],
   "source": [
    "agua = pd.read_csv(\"consumo-agua.csv\")"
   ]
  },
  {
   "cell_type": "markdown",
   "metadata": {},
   "source": [
    "alcaldía vs índice_des\n",
    "consumo_total_dom vs bimestre\n",
    "consumo_total_no_dom\n",
    "indice_des vs bimestre"
   ]
  },
  {
   "cell_type": "code",
   "execution_count": 5,
   "metadata": {},
   "outputs": [
    {
     "data": {
      "text/html": [
       "<div>\n",
       "<style scoped>\n",
       "    .dataframe tbody tr th:only-of-type {\n",
       "        vertical-align: middle;\n",
       "    }\n",
       "\n",
       "    .dataframe tbody tr th {\n",
       "        vertical-align: top;\n",
       "    }\n",
       "\n",
       "    .dataframe thead th {\n",
       "        text-align: right;\n",
       "    }\n",
       "</style>\n",
       "<table border=\"1\" class=\"dataframe\">\n",
       "  <thead>\n",
       "    <tr style=\"text-align: right;\">\n",
       "      <th></th>\n",
       "      <th>Geo Point</th>\n",
       "      <th>Geo Shape</th>\n",
       "      <th>consumo_total_mixto</th>\n",
       "      <th>anio</th>\n",
       "      <th>nomgeo</th>\n",
       "      <th>consumo_prom_dom</th>\n",
       "      <th>consumo_total_dom</th>\n",
       "      <th>alcaldia</th>\n",
       "      <th>colonia</th>\n",
       "      <th>consumo_prom_mixto</th>\n",
       "      <th>consumo_total</th>\n",
       "      <th>consumo_prom</th>\n",
       "      <th>consumo_prom_no_dom</th>\n",
       "      <th>bimestre</th>\n",
       "      <th>consumo_total_no_dom</th>\n",
       "      <th>gid</th>\n",
       "      <th>indice_des</th>\n",
       "    </tr>\n",
       "  </thead>\n",
       "  <tbody>\n",
       "    <tr>\n",
       "      <th>0</th>\n",
       "      <td>19.4552601937,-99.1126617526</td>\n",
       "      <td>{\"type\": \"MultiPolygon\", \"coordinates\": [[[[-9...</td>\n",
       "      <td>159.72</td>\n",
       "      <td>2019</td>\n",
       "      <td>Gustavo A. Madero</td>\n",
       "      <td>42.566364</td>\n",
       "      <td>468.23</td>\n",
       "      <td>GUSTAVO A. MADERO</td>\n",
       "      <td>7 DE NOVIEMBRE</td>\n",
       "      <td>53.24</td>\n",
       "      <td>631.0</td>\n",
       "      <td>42.066667</td>\n",
       "      <td>3.05</td>\n",
       "      <td>3</td>\n",
       "      <td>3.05</td>\n",
       "      <td>57250</td>\n",
       "      <td>ALTO</td>\n",
       "    </tr>\n",
       "  </tbody>\n",
       "</table>\n",
       "</div>"
      ],
      "text/plain": [
       "                      Geo Point  \\\n",
       "0  19.4552601937,-99.1126617526   \n",
       "\n",
       "                                           Geo Shape  consumo_total_mixto  \\\n",
       "0  {\"type\": \"MultiPolygon\", \"coordinates\": [[[[-9...               159.72   \n",
       "\n",
       "   anio             nomgeo  consumo_prom_dom  consumo_total_dom  \\\n",
       "0  2019  Gustavo A. Madero         42.566364             468.23   \n",
       "\n",
       "            alcaldia         colonia  consumo_prom_mixto  consumo_total  \\\n",
       "0  GUSTAVO A. MADERO  7 DE NOVIEMBRE               53.24          631.0   \n",
       "\n",
       "   consumo_prom  consumo_prom_no_dom  bimestre  consumo_total_no_dom    gid  \\\n",
       "0     42.066667                 3.05         3                  3.05  57250   \n",
       "\n",
       "  indice_des  \n",
       "0       ALTO  "
      ]
     },
     "execution_count": 5,
     "metadata": {},
     "output_type": "execute_result"
    }
   ],
   "source": [
    "agua.head(1)"
   ]
  },
  {
   "cell_type": "code",
   "execution_count": 152,
   "metadata": {},
   "outputs": [
    {
     "data": {
      "text/html": [
       "<div>\n",
       "<style scoped>\n",
       "    .dataframe tbody tr th:only-of-type {\n",
       "        vertical-align: middle;\n",
       "    }\n",
       "\n",
       "    .dataframe tbody tr th {\n",
       "        vertical-align: top;\n",
       "    }\n",
       "\n",
       "    .dataframe thead th {\n",
       "        text-align: right;\n",
       "    }\n",
       "</style>\n",
       "<table border=\"1\" class=\"dataframe\">\n",
       "  <thead>\n",
       "    <tr style=\"text-align: right;\">\n",
       "      <th></th>\n",
       "      <th>alcaldia</th>\n",
       "      <th>consumo_total_dom</th>\n",
       "      <th>consumo_total_no_dom</th>\n",
       "    </tr>\n",
       "  </thead>\n",
       "  <tbody>\n",
       "    <tr>\n",
       "      <th>0</th>\n",
       "      <td>ALVARO OBREGON</td>\n",
       "      <td>6.590161e+06</td>\n",
       "      <td>2492864.010</td>\n",
       "    </tr>\n",
       "    <tr>\n",
       "      <th>1</th>\n",
       "      <td>AZCAPOTZALCO</td>\n",
       "      <td>6.153755e+06</td>\n",
       "      <td>1897004.540</td>\n",
       "    </tr>\n",
       "    <tr>\n",
       "      <th>2</th>\n",
       "      <td>BENITO JUAREZ</td>\n",
       "      <td>9.894931e+06</td>\n",
       "      <td>2815269.571</td>\n",
       "    </tr>\n",
       "    <tr>\n",
       "      <th>3</th>\n",
       "      <td>COYOACAN</td>\n",
       "      <td>5.128303e+06</td>\n",
       "      <td>2209569.070</td>\n",
       "    </tr>\n",
       "    <tr>\n",
       "      <th>4</th>\n",
       "      <td>CUAJIMALPA</td>\n",
       "      <td>2.064264e+06</td>\n",
       "      <td>736118.460</td>\n",
       "    </tr>\n",
       "    <tr>\n",
       "      <th>5</th>\n",
       "      <td>CUAUHTEMOC</td>\n",
       "      <td>1.034611e+07</td>\n",
       "      <td>6074370.831</td>\n",
       "    </tr>\n",
       "    <tr>\n",
       "      <th>6</th>\n",
       "      <td>GUSTAVO A. MADERO</td>\n",
       "      <td>9.196449e+06</td>\n",
       "      <td>2740658.660</td>\n",
       "    </tr>\n",
       "    <tr>\n",
       "      <th>7</th>\n",
       "      <td>IZTACALCO</td>\n",
       "      <td>4.663498e+06</td>\n",
       "      <td>909975.230</td>\n",
       "    </tr>\n",
       "    <tr>\n",
       "      <th>8</th>\n",
       "      <td>IZTAPALAPA</td>\n",
       "      <td>5.263020e+06</td>\n",
       "      <td>2213018.590</td>\n",
       "    </tr>\n",
       "    <tr>\n",
       "      <th>9</th>\n",
       "      <td>MAGDALENA CONTRERAS</td>\n",
       "      <td>8.449665e+05</td>\n",
       "      <td>361492.280</td>\n",
       "    </tr>\n",
       "    <tr>\n",
       "      <th>10</th>\n",
       "      <td>MIGUEL HIDALGO</td>\n",
       "      <td>8.640463e+06</td>\n",
       "      <td>4687309.460</td>\n",
       "    </tr>\n",
       "    <tr>\n",
       "      <th>11</th>\n",
       "      <td>MILPA ALTA</td>\n",
       "      <td>7.250709e+04</td>\n",
       "      <td>57215.670</td>\n",
       "    </tr>\n",
       "    <tr>\n",
       "      <th>12</th>\n",
       "      <td>TLAHUAC</td>\n",
       "      <td>6.018023e+05</td>\n",
       "      <td>163625.630</td>\n",
       "    </tr>\n",
       "    <tr>\n",
       "      <th>13</th>\n",
       "      <td>TLALPAN</td>\n",
       "      <td>2.877269e+06</td>\n",
       "      <td>1950976.290</td>\n",
       "    </tr>\n",
       "    <tr>\n",
       "      <th>14</th>\n",
       "      <td>VENUSTIANO CARRANZA</td>\n",
       "      <td>5.007008e+06</td>\n",
       "      <td>1210723.040</td>\n",
       "    </tr>\n",
       "    <tr>\n",
       "      <th>15</th>\n",
       "      <td>XOCHIMILCO</td>\n",
       "      <td>1.283415e+06</td>\n",
       "      <td>484568.770</td>\n",
       "    </tr>\n",
       "  </tbody>\n",
       "</table>\n",
       "</div>"
      ],
      "text/plain": [
       "               alcaldia  consumo_total_dom  consumo_total_no_dom\n",
       "0        ALVARO OBREGON       6.590161e+06           2492864.010\n",
       "1          AZCAPOTZALCO       6.153755e+06           1897004.540\n",
       "2         BENITO JUAREZ       9.894931e+06           2815269.571\n",
       "3              COYOACAN       5.128303e+06           2209569.070\n",
       "4            CUAJIMALPA       2.064264e+06            736118.460\n",
       "5            CUAUHTEMOC       1.034611e+07           6074370.831\n",
       "6     GUSTAVO A. MADERO       9.196449e+06           2740658.660\n",
       "7             IZTACALCO       4.663498e+06            909975.230\n",
       "8            IZTAPALAPA       5.263020e+06           2213018.590\n",
       "9   MAGDALENA CONTRERAS       8.449665e+05            361492.280\n",
       "10       MIGUEL HIDALGO       8.640463e+06           4687309.460\n",
       "11           MILPA ALTA       7.250709e+04             57215.670\n",
       "12              TLAHUAC       6.018023e+05            163625.630\n",
       "13              TLALPAN       2.877269e+06           1950976.290\n",
       "14  VENUSTIANO CARRANZA       5.007008e+06           1210723.040\n",
       "15           XOCHIMILCO       1.283415e+06            484568.770"
      ]
     },
     "execution_count": 152,
     "metadata": {},
     "output_type": "execute_result"
    }
   ],
   "source": [
    "dom_no = pd.DataFrame(agua,columns=['alcaldia','consumo_total_dom','consumo_total_no_dom'])\\\n",
    ".groupby(['alcaldia'], as_index=False).sum()\\\n",
    ".sort_values(by=['alcaldia'])\n",
    "dom_no"
   ]
  },
  {
   "cell_type": "code",
   "execution_count": 150,
   "metadata": {},
   "outputs": [
    {
     "data": {
      "text/plain": [
       "<AxesSubplot:xlabel='consumo_total_dom', ylabel='alcaldia'>"
      ]
     },
     "execution_count": 150,
     "metadata": {},
     "output_type": "execute_result"
    },
    {
     "data": {
      "image/png": "[encoded data removed]",
      "text/plain": [
       "<Figure size 432x288 with 1 Axes>"
      ]
     },
     "metadata": {
      "needs_background": "light"
     },
     "output_type": "display_data"
    }
   ],
   "source": [
    "sns.barplot(x=\"consumo_total_dom\", y=\"alcaldia\", data=dom_no)"
   ]
  },
  {
   "cell_type": "code",
   "execution_count": null,
   "metadata": {},
   "outputs": [],
   "source": []
  },
  {
   "cell_type": "code",
   "execution_count": null,
   "metadata": {},
   "outputs": [],
   "source": []
  },
  {
   "cell_type": "code",
   "execution_count": null,
   "metadata": {},
   "outputs": [],
   "source": []
  },
  {
   "cell_type": "code",
   "execution_count": null,
   "metadata": {},
   "outputs": [],
   "source": []
  },
  {
   "cell_type": "code",
   "execution_count": 14,
   "metadata": {},
   "outputs": [
    {
     "data": {
      "text/plain": [
       "17"
      ]
     },
     "execution_count": 14,
     "metadata": {},
     "output_type": "execute_result"
    }
   ],
   "source": [
    "agua.shape[1]"
   ]
  },
  {
   "cell_type": "code",
   "execution_count": 9,
   "metadata": {},
   "outputs": [
    {
     "data": {
      "text/plain": [
       "<AxesSubplot:xlabel='consumo_total'>"
      ]
     },
     "execution_count": 9,
     "metadata": {},
     "output_type": "execute_result"
    },
    {
     "data": {
      "image/png": "[encoded data removed]",
      "text/plain": [
       "<Figure size 432x288 with 1 Axes>"
      ]
     },
     "metadata": {
      "needs_background": "light"
     },
     "output_type": "display_data"
    }
   ],
   "source": [
    "sns.boxplot(x=\"consumo_total\", data=agua[agua.consumo_total<4000])"
   ]
  },
  {
   "cell_type": "code",
   "execution_count": 10,
   "metadata": {},
   "outputs": [],
   "source": [
    "consumo_ind = agua.groupby(['consumo_total','indice_des'], as_index=False)"
   ]
  },
  {
   "cell_type": "code",
   "execution_count": 103,
   "metadata": {},
   "outputs": [],
   "source": [
    "ind_alcaldia = agua.groupby(['alcaldia'], as_index=False)['consumo_total'].sum()\\\n",
    ".rename(columns={'consumo_total':'count'}).sort_values(by=['count'], ascending=False)"
   ]
  },
  {
   "cell_type": "code",
   "execution_count": 104,
   "metadata": {},
   "outputs": [
    {
     "data": {
      "text/html": [
       "<div>\n",
       "<style scoped>\n",
       "    .dataframe tbody tr th:only-of-type {\n",
       "        vertical-align: middle;\n",
       "    }\n",
       "\n",
       "    .dataframe tbody tr th {\n",
       "        vertical-align: top;\n",
       "    }\n",
       "\n",
       "    .dataframe thead th {\n",
       "        text-align: right;\n",
       "    }\n",
       "</style>\n",
       "<table border=\"1\" class=\"dataframe\">\n",
       "  <thead>\n",
       "    <tr style=\"text-align: right;\">\n",
       "      <th></th>\n",
       "      <th>alcaldia</th>\n",
       "      <th>count</th>\n",
       "    </tr>\n",
       "  </thead>\n",
       "  <tbody>\n",
       "    <tr>\n",
       "      <th>5</th>\n",
       "      <td>CUAUHTEMOC</td>\n",
       "      <td>1.865082e+07</td>\n",
       "    </tr>\n",
       "    <tr>\n",
       "      <th>10</th>\n",
       "      <td>MIGUEL HIDALGO</td>\n",
       "      <td>1.449040e+07</td>\n",
       "    </tr>\n",
       "    <tr>\n",
       "      <th>2</th>\n",
       "      <td>BENITO JUAREZ</td>\n",
       "      <td>1.378012e+07</td>\n",
       "    </tr>\n",
       "    <tr>\n",
       "      <th>6</th>\n",
       "      <td>GUSTAVO A. MADERO</td>\n",
       "      <td>1.348010e+07</td>\n",
       "    </tr>\n",
       "    <tr>\n",
       "      <th>0</th>\n",
       "      <td>ALVARO OBREGON</td>\n",
       "      <td>9.608503e+06</td>\n",
       "    </tr>\n",
       "    <tr>\n",
       "      <th>1</th>\n",
       "      <td>AZCAPOTZALCO</td>\n",
       "      <td>8.969567e+06</td>\n",
       "    </tr>\n",
       "    <tr>\n",
       "      <th>8</th>\n",
       "      <td>IZTAPALAPA</td>\n",
       "      <td>8.313290e+06</td>\n",
       "    </tr>\n",
       "    <tr>\n",
       "      <th>3</th>\n",
       "      <td>COYOACAN</td>\n",
       "      <td>7.687908e+06</td>\n",
       "    </tr>\n",
       "    <tr>\n",
       "      <th>14</th>\n",
       "      <td>VENUSTIANO CARRANZA</td>\n",
       "      <td>7.093249e+06</td>\n",
       "    </tr>\n",
       "    <tr>\n",
       "      <th>7</th>\n",
       "      <td>IZTACALCO</td>\n",
       "      <td>6.260631e+06</td>\n",
       "    </tr>\n",
       "    <tr>\n",
       "      <th>13</th>\n",
       "      <td>TLALPAN</td>\n",
       "      <td>5.005525e+06</td>\n",
       "    </tr>\n",
       "    <tr>\n",
       "      <th>4</th>\n",
       "      <td>CUAJIMALPA</td>\n",
       "      <td>2.947514e+06</td>\n",
       "    </tr>\n",
       "    <tr>\n",
       "      <th>15</th>\n",
       "      <td>XOCHIMILCO</td>\n",
       "      <td>2.001643e+06</td>\n",
       "    </tr>\n",
       "    <tr>\n",
       "      <th>9</th>\n",
       "      <td>MAGDALENA CONTRERAS</td>\n",
       "      <td>1.271478e+06</td>\n",
       "    </tr>\n",
       "    <tr>\n",
       "      <th>12</th>\n",
       "      <td>TLAHUAC</td>\n",
       "      <td>8.566892e+05</td>\n",
       "    </tr>\n",
       "    <tr>\n",
       "      <th>11</th>\n",
       "      <td>MILPA ALTA</td>\n",
       "      <td>1.606970e+05</td>\n",
       "    </tr>\n",
       "  </tbody>\n",
       "</table>\n",
       "</div>"
      ],
      "text/plain": [
       "               alcaldia         count\n",
       "5            CUAUHTEMOC  1.865082e+07\n",
       "10       MIGUEL HIDALGO  1.449040e+07\n",
       "2         BENITO JUAREZ  1.378012e+07\n",
       "6     GUSTAVO A. MADERO  1.348010e+07\n",
       "0        ALVARO OBREGON  9.608503e+06\n",
       "1          AZCAPOTZALCO  8.969567e+06\n",
       "8            IZTAPALAPA  8.313290e+06\n",
       "3              COYOACAN  7.687908e+06\n",
       "14  VENUSTIANO CARRANZA  7.093249e+06\n",
       "7             IZTACALCO  6.260631e+06\n",
       "13              TLALPAN  5.005525e+06\n",
       "4            CUAJIMALPA  2.947514e+06\n",
       "15           XOCHIMILCO  2.001643e+06\n",
       "9   MAGDALENA CONTRERAS  1.271478e+06\n",
       "12              TLAHUAC  8.566892e+05\n",
       "11           MILPA ALTA  1.606970e+05"
      ]
     },
     "execution_count": 104,
     "metadata": {},
     "output_type": "execute_result"
    }
   ],
   "source": [
    "ind_alcaldia"
   ]
  },
  {
   "cell_type": "code",
   "execution_count": 105,
   "metadata": {},
   "outputs": [
    {
     "data": {
      "text/plain": [
       "<AxesSubplot:xlabel='count', ylabel='alcaldia'>"
      ]
     },
     "execution_count": 105,
     "metadata": {},
     "output_type": "execute_result"
    },
    {
     "data": {
      "image/png": "[encoded data removed]",
      "text/plain": [
       "<Figure size 432x288 with 1 Axes>"
      ]
     },
     "metadata": {
      "needs_background": "light"
     },
     "output_type": "display_data"
    }
   ],
   "source": [
    "sns.barplot(x=\"count\", y=\"alcaldia\", data=ind_alcaldia)"
   ]
  },
  {
   "cell_type": "code",
   "execution_count": null,
   "metadata": {},
   "outputs": [],
   "source": []
  },
  {
   "cell_type": "code",
   "execution_count": 106,
   "metadata": {},
   "outputs": [],
   "source": [
    "ind_alcaldia2 = agua.groupby(['alcaldia','indice_des'], as_index=False)['consumo_total'].sum()\\\n",
    ".rename(columns={'consumo_total':'count'}).sort_values(by=['count'])"
   ]
  },
  {
   "cell_type": "code",
   "execution_count": 107,
   "metadata": {},
   "outputs": [
    {
     "data": {
      "text/html": [
       "<div>\n",
       "<style scoped>\n",
       "    .dataframe tbody tr th:only-of-type {\n",
       "        vertical-align: middle;\n",
       "    }\n",
       "\n",
       "    .dataframe tbody tr th {\n",
       "        vertical-align: top;\n",
       "    }\n",
       "\n",
       "    .dataframe thead th {\n",
       "        text-align: right;\n",
       "    }\n",
       "</style>\n",
       "<table border=\"1\" class=\"dataframe\">\n",
       "  <thead>\n",
       "    <tr style=\"text-align: right;\">\n",
       "      <th></th>\n",
       "      <th>alcaldia</th>\n",
       "      <th>indice_des</th>\n",
       "      <th>count</th>\n",
       "    </tr>\n",
       "  </thead>\n",
       "  <tbody>\n",
       "    <tr>\n",
       "      <th>34</th>\n",
       "      <td>IZTAPALAPA</td>\n",
       "      <td>MEDIO</td>\n",
       "      <td>226.68</td>\n",
       "    </tr>\n",
       "    <tr>\n",
       "      <th>45</th>\n",
       "      <td>MILPA ALTA</td>\n",
       "      <td>MEDIO</td>\n",
       "      <td>35692.69</td>\n",
       "    </tr>\n",
       "    <tr>\n",
       "      <th>32</th>\n",
       "      <td>IZTAPALAPA</td>\n",
       "      <td>ALTO</td>\n",
       "      <td>44178.68</td>\n",
       "    </tr>\n",
       "    <tr>\n",
       "      <th>47</th>\n",
       "      <td>TLAHUAC</td>\n",
       "      <td>ALTO</td>\n",
       "      <td>44911.35</td>\n",
       "    </tr>\n",
       "    <tr>\n",
       "      <th>44</th>\n",
       "      <td>MILPA ALTA</td>\n",
       "      <td>BAJO</td>\n",
       "      <td>47414.48</td>\n",
       "    </tr>\n",
       "    <tr>\n",
       "      <th>...</th>\n",
       "      <td>...</td>\n",
       "      <td>...</td>\n",
       "      <td>...</td>\n",
       "    </tr>\n",
       "    <tr>\n",
       "      <th>25</th>\n",
       "      <td>GUSTAVO A. MADERO</td>\n",
       "      <td>BAJO</td>\n",
       "      <td>5839095.84</td>\n",
       "    </tr>\n",
       "    <tr>\n",
       "      <th>5</th>\n",
       "      <td>AZCAPOTZALCO</td>\n",
       "      <td>BAJO</td>\n",
       "      <td>6119398.30</td>\n",
       "    </tr>\n",
       "    <tr>\n",
       "      <th>21</th>\n",
       "      <td>CUAUHTEMOC</td>\n",
       "      <td>BAJO</td>\n",
       "      <td>6430251.23</td>\n",
       "    </tr>\n",
       "    <tr>\n",
       "      <th>40</th>\n",
       "      <td>MIGUEL HIDALGO</td>\n",
       "      <td>ALTO</td>\n",
       "      <td>7828405.06</td>\n",
       "    </tr>\n",
       "    <tr>\n",
       "      <th>8</th>\n",
       "      <td>BENITO JUAREZ</td>\n",
       "      <td>ALTO</td>\n",
       "      <td>8053473.75</td>\n",
       "    </tr>\n",
       "  </tbody>\n",
       "</table>\n",
       "<p>63 rows × 3 columns</p>\n",
       "</div>"
      ],
      "text/plain": [
       "             alcaldia indice_des       count\n",
       "34         IZTAPALAPA      MEDIO      226.68\n",
       "45         MILPA ALTA      MEDIO    35692.69\n",
       "32         IZTAPALAPA       ALTO    44178.68\n",
       "47            TLAHUAC       ALTO    44911.35\n",
       "44         MILPA ALTA       BAJO    47414.48\n",
       "..                ...        ...         ...\n",
       "25  GUSTAVO A. MADERO       BAJO  5839095.84\n",
       "5        AZCAPOTZALCO       BAJO  6119398.30\n",
       "21         CUAUHTEMOC       BAJO  6430251.23\n",
       "40     MIGUEL HIDALGO       ALTO  7828405.06\n",
       "8       BENITO JUAREZ       ALTO  8053473.75\n",
       "\n",
       "[63 rows x 3 columns]"
      ]
     },
     "execution_count": 107,
     "metadata": {},
     "output_type": "execute_result"
    }
   ],
   "source": [
    "ind_alcaldia2"
   ]
  },
  {
   "cell_type": "code",
   "execution_count": 108,
   "metadata": {},
   "outputs": [
    {
     "data": {
      "text/plain": [
       "<AxesSubplot:xlabel='count', ylabel='indice_des'>"
      ]
     },
     "execution_count": 108,
     "metadata": {},
     "output_type": "execute_result"
    },
    {
     "data": {
      "image/png": "[encoded data removed]",
      "text/plain": [
       "<Figure size 432x288 with 1 Axes>"
      ]
     },
     "metadata": {
      "needs_background": "light"
     },
     "output_type": "display_data"
    }
   ],
   "source": [
    "sns.barplot(x=\"count\", y=\"indice_des\", data=ind_alcaldia2)"
   ]
  },
  {
   "cell_type": "code",
   "execution_count": null,
   "metadata": {},
   "outputs": [],
   "source": []
  },
  {
   "cell_type": "code",
   "execution_count": null,
   "metadata": {},
   "outputs": [],
   "source": []
  },
  {
   "cell_type": "code",
   "execution_count": null,
   "metadata": {},
   "outputs": [],
   "source": []
  },
  {
   "cell_type": "code",
   "execution_count": null,
   "metadata": {},
   "outputs": [],
   "source": []
  }
 ],
 "metadata": {
  "kernelspec": {
   "display_name": "itam_intro_to_ds",
   "language": "python",
   "name": "itam_intro_to_ds"
  },
  "language_info": {
   "codemirror_mode": {
    "name": "ipython",
    "version": 3
   },
   "file_extension": ".py",
   "mimetype": "text/x-python",
   "name": "python",
   "nbconvert_exporter": "python",
   "pygments_lexer": "ipython3",
   "version": "3.7.4"
  }
 },
 "nbformat": 4,
 "nbformat_minor": 4
}
