{
 "cells": [
  {
   "cell_type": "markdown",
   "metadata": {},
   "source": [
    "# Elena's graphics"
   ]
  },
  {
   "cell_type": "code",
   "execution_count": 1,
   "metadata": {},
   "outputs": [],
   "source": [
    "import pandas as pd\n",
    "import numpy as np\n",
    "import matplotlib.pyplot as plt\n",
    "import seaborn as sns"
   ]
  },
  {
   "cell_type": "code",
   "execution_count": 15,
   "metadata": {},
   "outputs": [],
   "source": [
    "df = pd.read_csv(\"data_consumo_agua.csv\")"
   ]
  },
  {
   "cell_type": "code",
   "execution_count": 16,
   "metadata": {},
   "outputs": [
    {
     "data": {
      "text/plain": [
       "(71102, 17)"
      ]
     },
     "execution_count": 16,
     "metadata": {},
     "output_type": "execute_result"
    }
   ],
   "source": [
    "df.shape"
   ]
  },
  {
   "cell_type": "code",
   "execution_count": 17,
   "metadata": {},
   "outputs": [
    {
     "data": {
      "text/html": [
       "<div>\n",
       "<style scoped>\n",
       "    .dataframe tbody tr th:only-of-type {\n",
       "        vertical-align: middle;\n",
       "    }\n",
       "\n",
       "    .dataframe tbody tr th {\n",
       "        vertical-align: top;\n",
       "    }\n",
       "\n",
       "    .dataframe thead th {\n",
       "        text-align: right;\n",
       "    }\n",
       "</style>\n",
       "<table border=\"1\" class=\"dataframe\">\n",
       "  <thead>\n",
       "    <tr style=\"text-align: right;\">\n",
       "      <th></th>\n",
       "      <th>consumo_total_mixto</th>\n",
       "      <th>anio</th>\n",
       "      <th>nomgeo</th>\n",
       "      <th>consumo_prom_dom</th>\n",
       "      <th>consumo_total_dom</th>\n",
       "      <th>alcaldia</th>\n",
       "      <th>colonia</th>\n",
       "      <th>consumo_prom_mixto</th>\n",
       "      <th>consumo_total</th>\n",
       "      <th>consumo_prom</th>\n",
       "      <th>consumo_prom_no_dom</th>\n",
       "      <th>bimestre</th>\n",
       "      <th>consumo_total_no_dom</th>\n",
       "      <th>gid</th>\n",
       "      <th>indice_des</th>\n",
       "      <th>latitud</th>\n",
       "      <th>longitud</th>\n",
       "    </tr>\n",
       "  </thead>\n",
       "  <tbody>\n",
       "    <tr>\n",
       "      <th>0</th>\n",
       "      <td>159.72</td>\n",
       "      <td>2019</td>\n",
       "      <td>Gustavo A. Madero</td>\n",
       "      <td>42.566364</td>\n",
       "      <td>468.23</td>\n",
       "      <td>gustavo a. madero</td>\n",
       "      <td>7 de noviembre</td>\n",
       "      <td>53.24</td>\n",
       "      <td>631.00</td>\n",
       "      <td>42.066667</td>\n",
       "      <td>3.05</td>\n",
       "      <td>3</td>\n",
       "      <td>3.05</td>\n",
       "      <td>57250</td>\n",
       "      <td>alto</td>\n",
       "      <td>19.455260</td>\n",
       "      <td>-99.112662</td>\n",
       "    </tr>\n",
       "    <tr>\n",
       "      <th>1</th>\n",
       "      <td>0.00</td>\n",
       "      <td>2019</td>\n",
       "      <td>Gustavo A. Madero</td>\n",
       "      <td>35.936667</td>\n",
       "      <td>107.81</td>\n",
       "      <td>gustavo a. madero</td>\n",
       "      <td>7 de noviembre</td>\n",
       "      <td>0.00</td>\n",
       "      <td>115.13</td>\n",
       "      <td>28.782500</td>\n",
       "      <td>7.32</td>\n",
       "      <td>3</td>\n",
       "      <td>7.32</td>\n",
       "      <td>57253</td>\n",
       "      <td>medio</td>\n",
       "      <td>19.455260</td>\n",
       "      <td>-99.112662</td>\n",
       "    </tr>\n",
       "    <tr>\n",
       "      <th>2</th>\n",
       "      <td>0.00</td>\n",
       "      <td>2019</td>\n",
       "      <td>Gustavo A. Madero</td>\n",
       "      <td>24.586000</td>\n",
       "      <td>122.93</td>\n",
       "      <td>gustavo a. madero</td>\n",
       "      <td>7 de noviembre</td>\n",
       "      <td>0.00</td>\n",
       "      <td>197.96</td>\n",
       "      <td>32.993333</td>\n",
       "      <td>75.03</td>\n",
       "      <td>3</td>\n",
       "      <td>75.03</td>\n",
       "      <td>57255</td>\n",
       "      <td>popular</td>\n",
       "      <td>19.455720</td>\n",
       "      <td>-99.113582</td>\n",
       "    </tr>\n",
       "    <tr>\n",
       "      <th>3</th>\n",
       "      <td>0.00</td>\n",
       "      <td>2019</td>\n",
       "      <td>Gustavo A. Madero</td>\n",
       "      <td>0.000000</td>\n",
       "      <td>0.00</td>\n",
       "      <td>gustavo a. madero</td>\n",
       "      <td>nueva tenochtitlan</td>\n",
       "      <td>0.00</td>\n",
       "      <td>253.53</td>\n",
       "      <td>84.510000</td>\n",
       "      <td>84.51</td>\n",
       "      <td>3</td>\n",
       "      <td>253.53</td>\n",
       "      <td>57267</td>\n",
       "      <td>bajo</td>\n",
       "      <td>19.459647</td>\n",
       "      <td>-99.104469</td>\n",
       "    </tr>\n",
       "    <tr>\n",
       "      <th>4</th>\n",
       "      <td>56.72</td>\n",
       "      <td>2019</td>\n",
       "      <td>Azcapotzalco</td>\n",
       "      <td>67.436250</td>\n",
       "      <td>539.49</td>\n",
       "      <td>azcapotzalco</td>\n",
       "      <td>prohogar</td>\n",
       "      <td>56.72</td>\n",
       "      <td>839.35</td>\n",
       "      <td>76.304545</td>\n",
       "      <td>121.57</td>\n",
       "      <td>3</td>\n",
       "      <td>243.14</td>\n",
       "      <td>57330</td>\n",
       "      <td>bajo</td>\n",
       "      <td>19.474161</td>\n",
       "      <td>-99.146750</td>\n",
       "    </tr>\n",
       "  </tbody>\n",
       "</table>\n",
       "</div>"
      ],
      "text/plain": [
       "   consumo_total_mixto  anio             nomgeo  consumo_prom_dom  \\\n",
       "0               159.72  2019  Gustavo A. Madero         42.566364   \n",
       "1                 0.00  2019  Gustavo A. Madero         35.936667   \n",
       "2                 0.00  2019  Gustavo A. Madero         24.586000   \n",
       "3                 0.00  2019  Gustavo A. Madero          0.000000   \n",
       "4                56.72  2019       Azcapotzalco         67.436250   \n",
       "\n",
       "   consumo_total_dom           alcaldia             colonia  \\\n",
       "0             468.23  gustavo a. madero      7 de noviembre   \n",
       "1             107.81  gustavo a. madero      7 de noviembre   \n",
       "2             122.93  gustavo a. madero      7 de noviembre   \n",
       "3               0.00  gustavo a. madero  nueva tenochtitlan   \n",
       "4             539.49       azcapotzalco            prohogar   \n",
       "\n",
       "   consumo_prom_mixto  consumo_total  consumo_prom  consumo_prom_no_dom  \\\n",
       "0               53.24         631.00     42.066667                 3.05   \n",
       "1                0.00         115.13     28.782500                 7.32   \n",
       "2                0.00         197.96     32.993333                75.03   \n",
       "3                0.00         253.53     84.510000                84.51   \n",
       "4               56.72         839.35     76.304545               121.57   \n",
       "\n",
       "   bimestre  consumo_total_no_dom    gid indice_des    latitud   longitud  \n",
       "0         3                  3.05  57250       alto  19.455260 -99.112662  \n",
       "1         3                  7.32  57253      medio  19.455260 -99.112662  \n",
       "2         3                 75.03  57255    popular  19.455720 -99.113582  \n",
       "3         3                253.53  57267       bajo  19.459647 -99.104469  \n",
       "4         3                243.14  57330       bajo  19.474161 -99.146750  "
      ]
     },
     "execution_count": 17,
     "metadata": {},
     "output_type": "execute_result"
    }
   ],
   "source": [
    "df.head()"
   ]
  },
  {
   "cell_type": "markdown",
   "metadata": {},
   "source": [
    "Recuerda las características de tus variables:\n",
    "- Son 71102 observaciones\n",
    "\n",
    "Sobre consumo, existen diferentes tipos de uso:\n",
    "\n",
    "1. Doméstico: Uso habitacional\n",
    "2. No Doméstico: Uso no doméstico\n",
    "3. Mixto: uso doméstico y no doméstico\n",
    "\n",
    "Las variables que miden dicho uso son: \n",
    "\n",
    "- consumo_total\n",
    "- comsumo_prom\n",
    "- consumo_total_mixto\n",
    "- consumo_prom_mixto\n",
    "- consumo_prom_dom\n",
    "- consumo_total_dom\n",
    "- consumo_prom_no_dom\n",
    "- consumo_total_no_dom\n",
    "\n",
    "\n",
    "Las otras variables: \n",
    "\n",
    "- anio: que tiene un solo valor 2019\n",
    "- nomgeo: que contiene la misma información que alcaldía por lo que usaremos la variable alcaldia.\n",
    "- gid: quién sabe qué es\n",
    "- latitud: son únicas por colonia?\n",
    "- longitud: igual que la de arriba\n",
    "- **alcaldia:** las 16 alcaldías de la CDMX, donde el top 3 son Iztapalapa, Gustavo A. Madero y Cuauhtémoc.\n",
    "- **colonia:** que son 1340 colonias registradas, donde el top 3 son Centro, Agricola Oriental y Roma Norte. \n",
    "- **bimestre:** solo se tienen tres bimestres\n",
    "- **indice_des:** Diferencía territorialmente a la población de la CDMX de acuerdo a su nivel de desarrollo económico, agregando la información por colonia, los niveles son: \n",
    "        * POPULAR: Niveles de desarrollo más bajos de la Ciudad. \n",
    "        * BAJO: Niveles de desarrollo bajo de la Ciudad.\n",
    "        * MEDIO: Niveles de desarrollo medio de la Ciudad.\n",
    "        * ALTO: Niveles de desarrollo altos de la Ciudad. "
   ]
  },
  {
   "cell_type": "code",
   "execution_count": 19,
   "metadata": {},
   "outputs": [],
   "source": [
    "# Seleccionando solo variables de interes y reordenarlas\n",
    "\n",
    "df = df[['consumo_total', 'consumo_total_dom', 'consumo_total_no_dom', 'consumo_total_mixto',\n",
    "         'consumo_prom', 'consumo_prom_dom', 'consumo_prom_no_dom', 'consumo_prom_mixto',\n",
    "        'alcaldia','colonia','bimestre','indice_des','latitud','longitud']]"
   ]
  },
  {
   "cell_type": "code",
   "execution_count": 20,
   "metadata": {},
   "outputs": [
    {
     "data": {
      "text/html": [
       "<div>\n",
       "<style scoped>\n",
       "    .dataframe tbody tr th:only-of-type {\n",
       "        vertical-align: middle;\n",
       "    }\n",
       "\n",
       "    .dataframe tbody tr th {\n",
       "        vertical-align: top;\n",
       "    }\n",
       "\n",
       "    .dataframe thead th {\n",
       "        text-align: right;\n",
       "    }\n",
       "</style>\n",
       "<table border=\"1\" class=\"dataframe\">\n",
       "  <thead>\n",
       "    <tr style=\"text-align: right;\">\n",
       "      <th></th>\n",
       "      <th>consumo_total</th>\n",
       "      <th>consumo_total_dom</th>\n",
       "      <th>consumo_total_no_dom</th>\n",
       "      <th>consumo_total_mixto</th>\n",
       "      <th>consumo_prom</th>\n",
       "      <th>consumo_prom_dom</th>\n",
       "      <th>consumo_prom_no_dom</th>\n",
       "      <th>consumo_prom_mixto</th>\n",
       "      <th>alcaldia</th>\n",
       "      <th>colonia</th>\n",
       "      <th>bimestre</th>\n",
       "      <th>indice_des</th>\n",
       "      <th>latitud</th>\n",
       "      <th>longitud</th>\n",
       "    </tr>\n",
       "  </thead>\n",
       "  <tbody>\n",
       "    <tr>\n",
       "      <th>0</th>\n",
       "      <td>631.00</td>\n",
       "      <td>468.23</td>\n",
       "      <td>3.05</td>\n",
       "      <td>159.72</td>\n",
       "      <td>42.066667</td>\n",
       "      <td>42.566364</td>\n",
       "      <td>3.050000</td>\n",
       "      <td>53.240000</td>\n",
       "      <td>gustavo a. madero</td>\n",
       "      <td>7 de noviembre</td>\n",
       "      <td>3</td>\n",
       "      <td>alto</td>\n",
       "      <td>19.455260</td>\n",
       "      <td>-99.112662</td>\n",
       "    </tr>\n",
       "    <tr>\n",
       "      <th>1</th>\n",
       "      <td>115.13</td>\n",
       "      <td>107.81</td>\n",
       "      <td>7.32</td>\n",
       "      <td>0.00</td>\n",
       "      <td>28.782500</td>\n",
       "      <td>35.936667</td>\n",
       "      <td>7.320000</td>\n",
       "      <td>0.000000</td>\n",
       "      <td>gustavo a. madero</td>\n",
       "      <td>7 de noviembre</td>\n",
       "      <td>3</td>\n",
       "      <td>medio</td>\n",
       "      <td>19.455260</td>\n",
       "      <td>-99.112662</td>\n",
       "    </tr>\n",
       "    <tr>\n",
       "      <th>2</th>\n",
       "      <td>197.96</td>\n",
       "      <td>122.93</td>\n",
       "      <td>75.03</td>\n",
       "      <td>0.00</td>\n",
       "      <td>32.993333</td>\n",
       "      <td>24.586000</td>\n",
       "      <td>75.030000</td>\n",
       "      <td>0.000000</td>\n",
       "      <td>gustavo a. madero</td>\n",
       "      <td>7 de noviembre</td>\n",
       "      <td>3</td>\n",
       "      <td>popular</td>\n",
       "      <td>19.455720</td>\n",
       "      <td>-99.113582</td>\n",
       "    </tr>\n",
       "    <tr>\n",
       "      <th>3</th>\n",
       "      <td>253.53</td>\n",
       "      <td>0.00</td>\n",
       "      <td>253.53</td>\n",
       "      <td>0.00</td>\n",
       "      <td>84.510000</td>\n",
       "      <td>0.000000</td>\n",
       "      <td>84.510000</td>\n",
       "      <td>0.000000</td>\n",
       "      <td>gustavo a. madero</td>\n",
       "      <td>nueva tenochtitlan</td>\n",
       "      <td>3</td>\n",
       "      <td>bajo</td>\n",
       "      <td>19.459647</td>\n",
       "      <td>-99.104469</td>\n",
       "    </tr>\n",
       "    <tr>\n",
       "      <th>4</th>\n",
       "      <td>839.35</td>\n",
       "      <td>539.49</td>\n",
       "      <td>243.14</td>\n",
       "      <td>56.72</td>\n",
       "      <td>76.304545</td>\n",
       "      <td>67.436250</td>\n",
       "      <td>121.570000</td>\n",
       "      <td>56.720000</td>\n",
       "      <td>azcapotzalco</td>\n",
       "      <td>prohogar</td>\n",
       "      <td>3</td>\n",
       "      <td>bajo</td>\n",
       "      <td>19.474161</td>\n",
       "      <td>-99.146750</td>\n",
       "    </tr>\n",
       "    <tr>\n",
       "      <th>...</th>\n",
       "      <td>...</td>\n",
       "      <td>...</td>\n",
       "      <td>...</td>\n",
       "      <td>...</td>\n",
       "      <td>...</td>\n",
       "      <td>...</td>\n",
       "      <td>...</td>\n",
       "      <td>...</td>\n",
       "      <td>...</td>\n",
       "      <td>...</td>\n",
       "      <td>...</td>\n",
       "      <td>...</td>\n",
       "      <td>...</td>\n",
       "      <td>...</td>\n",
       "    </tr>\n",
       "    <tr>\n",
       "      <th>71097</th>\n",
       "      <td>4286.28</td>\n",
       "      <td>3930.41</td>\n",
       "      <td>355.87</td>\n",
       "      <td>NaN</td>\n",
       "      <td>19.307568</td>\n",
       "      <td>20.053112</td>\n",
       "      <td>13.687308</td>\n",
       "      <td>NaN</td>\n",
       "      <td>cuauhtemoc</td>\n",
       "      <td>guerrero</td>\n",
       "      <td>1</td>\n",
       "      <td>bajo</td>\n",
       "      <td>19.448564</td>\n",
       "      <td>-99.139940</td>\n",
       "    </tr>\n",
       "    <tr>\n",
       "      <th>71098</th>\n",
       "      <td>9796.12</td>\n",
       "      <td>9549.24</td>\n",
       "      <td>175.59</td>\n",
       "      <td>71.30</td>\n",
       "      <td>20.976702</td>\n",
       "      <td>21.126615</td>\n",
       "      <td>13.506923</td>\n",
       "      <td>35.650001</td>\n",
       "      <td>cuauhtemoc</td>\n",
       "      <td>guerrero</td>\n",
       "      <td>1</td>\n",
       "      <td>popular</td>\n",
       "      <td>19.449339</td>\n",
       "      <td>-99.145719</td>\n",
       "    </tr>\n",
       "    <tr>\n",
       "      <th>71099</th>\n",
       "      <td>5692.81</td>\n",
       "      <td>4707.25</td>\n",
       "      <td>226.40</td>\n",
       "      <td>759.16</td>\n",
       "      <td>29.344381</td>\n",
       "      <td>27.527778</td>\n",
       "      <td>15.093334</td>\n",
       "      <td>94.894999</td>\n",
       "      <td>cuauhtemoc</td>\n",
       "      <td>guerrero</td>\n",
       "      <td>1</td>\n",
       "      <td>bajo</td>\n",
       "      <td>19.448392</td>\n",
       "      <td>-99.145930</td>\n",
       "    </tr>\n",
       "    <tr>\n",
       "      <th>71100</th>\n",
       "      <td>963.15</td>\n",
       "      <td>550.89</td>\n",
       "      <td>9.61</td>\n",
       "      <td>402.65</td>\n",
       "      <td>41.876087</td>\n",
       "      <td>30.605000</td>\n",
       "      <td>9.610000</td>\n",
       "      <td>100.662498</td>\n",
       "      <td>cuauhtemoc</td>\n",
       "      <td>guerrero</td>\n",
       "      <td>1</td>\n",
       "      <td>bajo</td>\n",
       "      <td>19.447587</td>\n",
       "      <td>-99.142509</td>\n",
       "    </tr>\n",
       "    <tr>\n",
       "      <th>71101</th>\n",
       "      <td>9000.07</td>\n",
       "      <td>8552.94</td>\n",
       "      <td>405.93</td>\n",
       "      <td>41.20</td>\n",
       "      <td>21.951366</td>\n",
       "      <td>22.507710</td>\n",
       "      <td>15.034444</td>\n",
       "      <td>13.733333</td>\n",
       "      <td>cuauhtemoc</td>\n",
       "      <td>guerrero</td>\n",
       "      <td>1</td>\n",
       "      <td>bajo</td>\n",
       "      <td>19.447402</td>\n",
       "      <td>-99.139725</td>\n",
       "    </tr>\n",
       "  </tbody>\n",
       "</table>\n",
       "<p>71102 rows × 14 columns</p>\n",
       "</div>"
      ],
      "text/plain": [
       "       consumo_total  consumo_total_dom  consumo_total_no_dom  \\\n",
       "0             631.00             468.23                  3.05   \n",
       "1             115.13             107.81                  7.32   \n",
       "2             197.96             122.93                 75.03   \n",
       "3             253.53               0.00                253.53   \n",
       "4             839.35             539.49                243.14   \n",
       "...              ...                ...                   ...   \n",
       "71097        4286.28            3930.41                355.87   \n",
       "71098        9796.12            9549.24                175.59   \n",
       "71099        5692.81            4707.25                226.40   \n",
       "71100         963.15             550.89                  9.61   \n",
       "71101        9000.07            8552.94                405.93   \n",
       "\n",
       "       consumo_total_mixto  consumo_prom  consumo_prom_dom  \\\n",
       "0                   159.72     42.066667         42.566364   \n",
       "1                     0.00     28.782500         35.936667   \n",
       "2                     0.00     32.993333         24.586000   \n",
       "3                     0.00     84.510000          0.000000   \n",
       "4                    56.72     76.304545         67.436250   \n",
       "...                    ...           ...               ...   \n",
       "71097                  NaN     19.307568         20.053112   \n",
       "71098                71.30     20.976702         21.126615   \n",
       "71099               759.16     29.344381         27.527778   \n",
       "71100               402.65     41.876087         30.605000   \n",
       "71101                41.20     21.951366         22.507710   \n",
       "\n",
       "       consumo_prom_no_dom  consumo_prom_mixto           alcaldia  \\\n",
       "0                 3.050000           53.240000  gustavo a. madero   \n",
       "1                 7.320000            0.000000  gustavo a. madero   \n",
       "2                75.030000            0.000000  gustavo a. madero   \n",
       "3                84.510000            0.000000  gustavo a. madero   \n",
       "4               121.570000           56.720000       azcapotzalco   \n",
       "...                    ...                 ...                ...   \n",
       "71097            13.687308                 NaN         cuauhtemoc   \n",
       "71098            13.506923           35.650001         cuauhtemoc   \n",
       "71099            15.093334           94.894999         cuauhtemoc   \n",
       "71100             9.610000          100.662498         cuauhtemoc   \n",
       "71101            15.034444           13.733333         cuauhtemoc   \n",
       "\n",
       "                  colonia  bimestre indice_des    latitud   longitud  \n",
       "0          7 de noviembre         3       alto  19.455260 -99.112662  \n",
       "1          7 de noviembre         3      medio  19.455260 -99.112662  \n",
       "2          7 de noviembre         3    popular  19.455720 -99.113582  \n",
       "3      nueva tenochtitlan         3       bajo  19.459647 -99.104469  \n",
       "4                prohogar         3       bajo  19.474161 -99.146750  \n",
       "...                   ...       ...        ...        ...        ...  \n",
       "71097            guerrero         1       bajo  19.448564 -99.139940  \n",
       "71098            guerrero         1    popular  19.449339 -99.145719  \n",
       "71099            guerrero         1       bajo  19.448392 -99.145930  \n",
       "71100            guerrero         1       bajo  19.447587 -99.142509  \n",
       "71101            guerrero         1       bajo  19.447402 -99.139725  \n",
       "\n",
       "[71102 rows x 14 columns]"
      ]
     },
     "execution_count": 20,
     "metadata": {},
     "output_type": "execute_result"
    }
   ],
   "source": [
    "df"
   ]
  },
  {
   "cell_type": "code",
   "execution_count": 37,
   "metadata": {},
   "outputs": [],
   "source": [
    "casos_bien=df[['consumo_total_dom','consumo_total_no_dom','consumo_total_mixto']].sum(axis=1)!=df['consumo_total']"
   ]
  },
  {
   "cell_type": "code",
   "execution_count": 38,
   "metadata": {},
   "outputs": [
    {
     "data": {
      "text/plain": [
       "0        False\n",
       "1        False\n",
       "2        False\n",
       "3        False\n",
       "4        False\n",
       "         ...  \n",
       "71097    False\n",
       "71098     True\n",
       "71099     True\n",
       "71100    False\n",
       "71101     True\n",
       "Length: 71102, dtype: bool"
      ]
     },
     "execution_count": 38,
     "metadata": {},
     "output_type": "execute_result"
    }
   ],
   "source": [
    "casos_bien"
   ]
  },
  {
   "cell_type": "code",
   "execution_count": 39,
   "metadata": {},
   "outputs": [
    {
     "data": {
      "text/plain": [
       "False    55333\n",
       "True     15769\n",
       "dtype: int64"
      ]
     },
     "execution_count": 39,
     "metadata": {},
     "output_type": "execute_result"
    }
   ],
   "source": [
    "casos_bien.value_counts()"
   ]
  },
  {
   "cell_type": "code",
   "execution_count": 48,
   "metadata": {},
   "outputs": [
    {
     "data": {
      "text/plain": [
       "consumo_total              0\n",
       "consumo_total_dom       4820\n",
       "consumo_total_no_dom       0\n",
       "consumo_total_mixto     8327\n",
       "consumo_prom               0\n",
       "consumo_prom_dom        4820\n",
       "consumo_prom_no_dom        0\n",
       "consumo_prom_mixto      8327\n",
       "alcaldia                   0\n",
       "colonia                    0\n",
       "bimestre                   0\n",
       "indice_des                 0\n",
       "latitud                    0\n",
       "longitud                   0\n",
       "dtype: int64"
      ]
     },
     "execution_count": 48,
     "metadata": {},
     "output_type": "execute_result"
    }
   ],
   "source": [
    "df.isna().sum()"
   ]
  },
  {
   "cell_type": "code",
   "execution_count": 49,
   "metadata": {},
   "outputs": [
    {
     "data": {
      "text/plain": [
       "22930"
      ]
     },
     "execution_count": 49,
     "metadata": {},
     "output_type": "execute_result"
    }
   ],
   "source": [
    "df.latitud.nunique()"
   ]
  },
  {
   "cell_type": "code",
   "execution_count": 64,
   "metadata": {},
   "outputs": [],
   "source": [
    "numericas=df.iloc[:, 0:7]"
   ]
  },
  {
   "cell_type": "code",
   "execution_count": 71,
   "metadata": {},
   "outputs": [
    {
     "data": {
      "image/png": "[encoded data removed]",
      "text/plain": [
       "<Figure size 432x288 with 2 Axes>"
      ]
     },
     "metadata": {
      "needs_background": "light"
     },
     "output_type": "display_data"
    }
   ],
   "source": [
    "corr = numericas.corr()\n",
    "ax = sns.heatmap(\n",
    "    corr, \n",
    "    vmin=-1, vmax=1, center=0,\n",
    "    cmap=sns.diverging_palette(20, 220, n=200),\n",
    "    square=True,\n",
    "    annot=True\n",
    ")\n",
    "ax.set_xticklabels(\n",
    "    ax.get_xticklabels(),\n",
    "    rotation=45,\n",
    "    horizontalalignment='right'\n",
    ");"
   ]
  },
  {
   "cell_type": "code",
   "execution_count": 70,
   "metadata": {},
   "outputs": [
    {
     "data": {
      "image/png": "[encoded data removed]",
      "text/plain": [
       "<Figure size 432x288 with 2 Axes>"
      ]
     },
     "metadata": {
      "needs_background": "light"
     },
     "output_type": "display_data"
    }
   ],
   "source": [
    "numericas_2=df.iloc[:, 0:3]\n",
    "corr = numericas_2.corr()\n",
    "ax = sns.heatmap(\n",
    "    corr, \n",
    "    vmin=-1, vmax=1, center=0,\n",
    "    cmap=sns.diverging_palette(20, 220, n=200),\n",
    "    square=True,\n",
    "    annot=True\n",
    ")\n",
    "ax.set_xticklabels(\n",
    "    ax.get_xticklabels(),\n",
    "    rotation=45,\n",
    "    horizontalalignment='right'\n",
    ");"
   ]
  },
  {
   "cell_type": "code",
   "execution_count": 72,
   "metadata": {},
   "outputs": [
    {
     "name": "stderr",
     "output_type": "stream",
     "text": [
      "/Users/ele/.pyenv/versions/itam_intro_to_ds/lib/python3.7/site-packages/seaborn/distributions.py:2551: FutureWarning: `distplot` is a deprecated function and will be removed in a future version. Please adapt your code to use either `displot` (a figure-level function with similar flexibility) or `histplot` (an axes-level function for histograms).\n",
      "  warnings.warn(msg, FutureWarning)\n",
      "/Users/ele/.pyenv/versions/itam_intro_to_ds/lib/python3.7/site-packages/seaborn/distributions.py:2551: FutureWarning: `distplot` is a deprecated function and will be removed in a future version. Please adapt your code to use either `displot` (a figure-level function with similar flexibility) or `histplot` (an axes-level function for histograms).\n",
      "  warnings.warn(msg, FutureWarning)\n",
      "/Users/ele/.pyenv/versions/itam_intro_to_ds/lib/python3.7/site-packages/seaborn/distributions.py:2551: FutureWarning: `distplot` is a deprecated function and will be removed in a future version. Please adapt your code to use either `displot` (a figure-level function with similar flexibility) or `histplot` (an axes-level function for histograms).\n",
      "  warnings.warn(msg, FutureWarning)\n",
      "/Users/ele/.pyenv/versions/itam_intro_to_ds/lib/python3.7/site-packages/seaborn/distributions.py:2551: FutureWarning: `distplot` is a deprecated function and will be removed in a future version. Please adapt your code to use either `displot` (a figure-level function with similar flexibility) or `histplot` (an axes-level function for histograms).\n",
      "  warnings.warn(msg, FutureWarning)\n"
     ]
    },
    {
     "data": {
      "text/plain": [
       "<AxesSubplot:xlabel='consumo_total_mixto', ylabel='Density'>"
      ]
     },
     "execution_count": 72,
     "metadata": {},
     "output_type": "execute_result"
    },
    {
     "data": {
      "image/png": "[encoded data removed]",
      "text/plain": [
       "<Figure size 504x504 with 4 Axes>"
      ]
     },
     "metadata": {
      "needs_background": "light"
     },
     "output_type": "display_data"
    }
   ],
   "source": [
    "f, axes = plt.subplots(2, 2, figsize=(7, 7), sharex=True)\n",
    "sns.distplot( df[\"consumo_total\"] , color=\"skyblue\", ax=axes[0, 0])\n",
    "sns.distplot( df[\"consumo_total_dom\"] , color=\"olive\", ax=axes[0, 1])\n",
    "sns.distplot( df[\"consumo_total_no_dom\"] , color=\"gold\", ax=axes[1, 0])\n",
    "sns.distplot( df[\"consumo_total_mixto\"] , color=\"teal\", ax=axes[1, 1])\n"
   ]
  },
  {
   "cell_type": "code",
   "execution_count": 75,
   "metadata": {},
   "outputs": [
    {
     "data": {
      "text/plain": [
       "119726.94"
      ]
     },
     "execution_count": 75,
     "metadata": {},
     "output_type": "execute_result"
    },
    {
     "data": {
      "image/png": "[encoded data removed]",
      "text/plain": [
       "<Figure size 360x360 with 1 Axes>"
      ]
     },
     "metadata": {
      "needs_background": "light"
     },
     "output_type": "display_data"
    }
   ],
   "source": [
    "sns.displot( df[\"consumo_total\"], bins=20 )\n",
    "df.consumo_total.max()"
   ]
  },
  {
   "cell_type": "code",
   "execution_count": 76,
   "metadata": {},
   "outputs": [
    {
     "data": {
      "text/plain": [
       "119726.94"
      ]
     },
     "execution_count": 76,
     "metadata": {},
     "output_type": "execute_result"
    }
   ],
   "source": [
    "df.consumo_total.max()"
   ]
  },
  {
   "cell_type": "code",
   "execution_count": 89,
   "metadata": {},
   "outputs": [
    {
     "name": "stderr",
     "output_type": "stream",
     "text": [
      "<string>:6: RuntimeWarning: Converting input from bool to <class 'numpy.uint8'> for compatibility.\n",
      "<string>:6: RuntimeWarning: Converting input from bool to <class 'numpy.uint8'> for compatibility.\n"
     ]
    },
    {
     "data": {
      "text/plain": [
       "<seaborn.axisgrid.FacetGrid at 0x123f82cd0>"
      ]
     },
     "execution_count": 89,
     "metadata": {},
     "output_type": "execute_result"
    },
    {
     "data": {
      "image/png": "[encoded data removed]",
      "text/plain": [
       "<Figure size 360x360 with 1 Axes>"
      ]
     },
     "metadata": {
      "needs_background": "light"
     },
     "output_type": "display_data"
    }
   ],
   "source": [
    "sns.displot(df['consumo_total'].between(0, 20000))"
   ]
  },
  {
   "cell_type": "code",
   "execution_count": 85,
   "metadata": {},
   "outputs": [
    {
     "data": {
      "text/plain": [
       "0        True\n",
       "1        True\n",
       "2        True\n",
       "3        True\n",
       "4        True\n",
       "         ... \n",
       "71097    True\n",
       "71098    True\n",
       "71099    True\n",
       "71100    True\n",
       "71101    True\n",
       "Name: consumo_total, Length: 71102, dtype: bool"
      ]
     },
     "execution_count": 85,
     "metadata": {},
     "output_type": "execute_result"
    }
   ],
   "source": [
    "df['consumo_total'].between(0, 20000)"
   ]
  },
  {
   "cell_type": "code",
   "execution_count": 87,
   "metadata": {},
   "outputs": [
    {
     "data": {
      "text/plain": [
       "0        True\n",
       "1        True\n",
       "2        True\n",
       "3        True\n",
       "4        True\n",
       "         ... \n",
       "71097    True\n",
       "71098    True\n",
       "71099    True\n",
       "71100    True\n",
       "71101    True\n",
       "Name: consumo_total, Length: 71102, dtype: bool"
      ]
     },
     "execution_count": 87,
     "metadata": {},
     "output_type": "execute_result"
    }
   ],
   "source": [
    "(0 <= df['consumo_total']) & (df['consumo_total'] < 20000)"
   ]
  },
  {
   "cell_type": "code",
   "execution_count": null,
   "metadata": {},
   "outputs": [],
   "source": []
  }
 ],
 "metadata": {
  "kernelspec": {
   "display_name": "itam_intro_to_ds",
   "language": "python",
   "name": "itam_intro_to_ds"
  },
  "language_info": {
   "codemirror_mode": {
    "name": "ipython",
    "version": 3
   },
   "file_extension": ".py",
   "mimetype": "text/x-python",
   "name": "python",
   "nbconvert_exporter": "python",
   "pygments_lexer": "ipython3",
   "version": "3.7.4"
  }
 },
 "nbformat": 4,
 "nbformat_minor": 4
}
